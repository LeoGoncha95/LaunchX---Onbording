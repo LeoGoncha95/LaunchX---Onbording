{
 "cells": [
  {
   "cell_type": "markdown",
   "metadata": {},
   "source": [
    "# Ejercisios de if, else, elif"
   ]
  },
  {
   "cell_type": "code",
   "execution_count": 1,
   "metadata": {},
   "outputs": [
    {
     "name": "stdout",
     "output_type": "stream",
     "text": [
      "Imprimir pantall\n"
     ]
    }
   ],
   "source": [
    "a = 5\n",
    "if a>=4:\n",
    "    print(\"Imprimir pantall\")"
   ]
  },
  {
   "cell_type": "code",
   "execution_count": 2,
   "metadata": {},
   "outputs": [
    {
     "name": "stdout",
     "output_type": "stream",
     "text": [
      "Hola, Hola\n"
     ]
    }
   ],
   "source": [
    "\n",
    "a = 10\n",
    "b = 11\n",
    "if (a < b):\n",
    "    if (a >= b):\n",
    "        print(\"Hola\")\n",
    "    else:\n",
    "        print(\"Hola, Hola\")\n",
    "elif a == b:\n",
    "    print(\"Segunda condicion\")\n",
    "else:\n",
    "    print(\"Hola tercera opcion\")"
   ]
  },
  {
   "cell_type": "code",
   "execution_count": 3,
   "metadata": {},
   "outputs": [
    {
     "name": "stdout",
     "output_type": "stream",
     "text": [
      "Warning: Asteroid near of earth\n"
     ]
    }
   ],
   "source": [
    "asteroide = 49\n",
    "if asteroide > 25:\n",
    "    print(\"Warning: Asteroid near of earth\")\n",
    "else:\n",
    "    print(\"Do not worry be happy\")"
   ]
  },
  {
   "cell_type": "code",
   "execution_count": 4,
   "metadata": {},
   "outputs": [
    {
     "name": "stdout",
     "output_type": "stream",
     "text": [
      "Asteroide a menos de 20 Km/s\n"
     ]
    }
   ],
   "source": [
    "asteroide = 19\n",
    "if asteroide > 20:\n",
    "    print(\"Asteroide en el cielo\")\n",
    "elif asteroide < 20:\n",
    "    print(\"Asteroide a menos de 20 Km/s\")\n",
    "else:\n",
    "    print(\"Mira al cielo y busca, haber si lo encuentras\")"
   ]
  },
  {
   "cell_type": "markdown",
   "metadata": {},
   "source": [
    "# Ejercisio uso de operadores and y or"
   ]
  },
  {
   "cell_type": "code",
   "execution_count": 5,
   "metadata": {},
   "outputs": [
    {
     "name": "stdout",
     "output_type": "stream",
     "text": [
      "No hay problema\n"
     ]
    }
   ],
   "source": [
    "Tamaño_asteroide = 15\n",
    "Velocidad_asteroide = 30\n",
    "if Tamaño_asteroide < 25 or Velocidad_asteroide > 25:\n",
    "    if Tamaño_asteroide < 25:\n",
    "        print(\"No hay problema\")\n",
    "    elif Velocidad_asteroide > 25:\n",
    "        print(\"Advertencia\")\n",
    "elif Tamaño_asteroide > 25 or Tamaño_asteroide < 1000:\n",
    "    print(\"Hay un problema, corrran!!\")\n",
    "elif Velocidad_asteroide >= 20:\n",
    "    print(\"Observa el cielo\")\n",
    "else:\n",
    "    print(\"No hay problemas\")"
   ]
  }
 ],
 "metadata": {
  "interpreter": {
   "hash": "92617b2c43b985d9ebd2f22766015ad55ace913a8b904a16047d60f0eddaebfe"
  },
  "kernelspec": {
   "display_name": "Python 3.10.2 64-bit",
   "language": "python",
   "name": "python3"
  },
  "language_info": {
   "codemirror_mode": {
    "name": "ipython",
    "version": 3
   },
   "file_extension": ".py",
   "mimetype": "text/x-python",
   "name": "python",
   "nbconvert_exporter": "python",
   "pygments_lexer": "ipython3",
   "version": "3.10.2"
  },
  "orig_nbformat": 4
 },
 "nbformat": 4,
 "nbformat_minor": 2
}
