{
 "cells": [
  {
   "cell_type": "markdown",
   "metadata": {},
   "source": [
    "# Cadenas - conceptos basicos"
   ]
  },
  {
   "cell_type": "code",
   "execution_count": 8,
   "metadata": {},
   "outputs": [
    {
     "data": {
      "text/plain": [
       "'The moon has no atmosphere.'"
      ]
     },
     "execution_count": 8,
     "metadata": {},
     "output_type": "execute_result"
    }
   ],
   "source": [
    "fact = 'The moon has no atmosphere.'\n",
    "fact + 'No sound can be heard on the moon.'\n",
    "fact"
   ]
  },
  {
   "cell_type": "code",
   "execution_count": 10,
   "metadata": {},
   "outputs": [
    {
     "data": {
      "text/plain": [
       "str"
      ]
     },
     "execution_count": 10,
     "metadata": {},
     "output_type": "execute_result"
    }
   ],
   "source": [
    "two_fact = fact + 'No sound can be heard on the Moon.'\n",
    "two_fact\n",
    "#type(two_fact)"
   ]
  },
  {
   "cell_type": "markdown",
   "metadata": {},
   "source": [
    "# Texto multilinea\n",
    "* \\n\n",
    "* \"\"\"\n",
    "* Caracteres de nueva línea para separar el texto en varias lineas al imprimir la salida"
   ]
  },
  {
   "cell_type": "code",
   "execution_count": 12,
   "metadata": {},
   "outputs": [
    {
     "name": "stdout",
     "output_type": "stream",
     "text": [
      "Facts about the moon: \n",
      "\t There is no atmosphere. \n",
      "\t There is no sound.\n"
     ]
    }
   ],
   "source": [
    "multiline = \"Facts about the moon: \\n\\t There is no atmosphere. \\n\\t There is no sound.\"\n",
    "print (multiline)"
   ]
  },
  {
   "cell_type": "code",
   "execution_count": 13,
   "metadata": {},
   "outputs": [
    {
     "name": "stdout",
     "output_type": "stream",
     "text": [
      "Facts about the Moon:\n",
      "...     There is no atmosphere.\n",
      "...     There is no sound.\n"
     ]
    }
   ],
   "source": [
    "# Usar comilla triple para obtener el mismo resultado\n",
    "multiline = \"\"\"Facts about the Moon:\n",
    "...     There is no atmosphere.\n",
    "...     There is no sound.\"\"\"\n",
    "print(multiline)\n"
   ]
  },
  {
   "cell_type": "markdown",
   "metadata": {},
   "source": [
    "# Métodos string en Python\n",
    "* Para extraer datos informacion o ajustarse a un formato determinado.\n",
    "* Incluye varios metodos de cadena que estan diselados para realizar las transfromaciones mas comunes y utiles.\n",
    "* Los metodos existen como variables de cadena o parte de la cadena directamente.\n",
    "* .title() se puede utilizar con una cadena directamente"
   ]
  },
  {
   "cell_type": "code",
   "execution_count": 14,
   "metadata": {},
   "outputs": [
    {
     "data": {
      "text/plain": [
       "'Temperatures And Afacts About The Moon'"
      ]
     },
     "execution_count": 14,
     "metadata": {},
     "output_type": "execute_result"
    }
   ],
   "source": [
    "'temperatures and afacts about the moon'.title()"
   ]
  },
  {
   "cell_type": "code",
   "execution_count": 15,
   "metadata": {},
   "outputs": [
    {
     "data": {
      "text/plain": [
       "'Temperature And Facts About The Moon'"
      ]
     },
     "execution_count": 15,
     "metadata": {},
     "output_type": "execute_result"
    }
   ],
   "source": [
    "heading = 'temperature and facts about the moon'\n",
    "heading.title()"
   ]
  },
  {
   "cell_type": "markdown",
   "metadata": {},
   "source": [
    "# Divider una cadena\n",
    "* .split() - Separa la cadena en cada espacio creando una lista de cada palabra o numero separada por un espacio"
   ]
  },
  {
   "cell_type": "code",
   "execution_count": 24,
   "metadata": {},
   "outputs": [
    {
     "data": {
      "text/plain": [
       "['Daylight: 260 F ', 'Nighttime: -280 F']"
      ]
     },
     "execution_count": 24,
     "metadata": {},
     "output_type": "execute_result"
    }
   ],
   "source": [
    "temperatures = '''Daylight: 260 F \n",
    "... Nighttime: -280 F'''\n",
    "#temperatures.split()\n",
    "temperatures.split('\\n')"
   ]
  },
  {
   "cell_type": "markdown",
   "metadata": {},
   "source": [
    "# Buscar una cadena\n",
    "* Algunos metodos de cadena pueden buscar contenido antes del procesamiento, sin la necesidad de un bucle.\n",
    "* Si me interesa solo informacion especifica acerca de algo hay formas de hacerlo"
   ]
  },
  {
   "cell_type": "code",
   "execution_count": 28,
   "metadata": {},
   "outputs": [
    {
     "data": {
      "text/plain": [
       "True"
      ]
     },
     "execution_count": 28,
     "metadata": {},
     "output_type": "execute_result"
    }
   ],
   "source": [
    "# 'Moon' in 'This text will describe facts and challenges with space travel'\n",
    "'Moon' in 'This text will decribe facts about the Moon'\n",
    "#'Moon' in 'This text will decribe facts about the moon'        #No detecta la palabra si no esta escrita de la misma forma"
   ]
  },
  {
   "cell_type": "code",
   "execution_count": 30,
   "metadata": {},
   "outputs": [
    {
     "data": {
      "text/plain": [
       "69"
      ]
     },
     "execution_count": 30,
     "metadata": {},
     "output_type": "execute_result"
    }
   ],
   "source": [
    "# Para encontrar la posicion de una palabra especifica se puede usar el metodo .find()\n",
    "temperatures = \"\"\"Saturn has a daytime temperatures of -170 degrees Celsius,\n",
    "... while Mars has -28 Celsius.\"\"\"\n",
    "#temperatures.find('Moon')\n",
    "\n",
    "# El metodo .find() devuleve -1 cuando no se encuentra la palabra o devuelve el indice (el numero que ocupa dentro de la cadena)\n",
    "temperatures.find('Mars')"
   ]
  },
  {
   "cell_type": "code",
   "execution_count": 31,
   "metadata": {},
   "outputs": [
    {
     "data": {
      "text/plain": [
       "1"
      ]
     },
     "execution_count": 31,
     "metadata": {},
     "output_type": "execute_result"
    }
   ],
   "source": [
    "# Otro metodo es .count(), que devulve el numero total de apariciones de una determinada palabra en una  cadena\n",
    "temperatures.count('Mars')"
   ]
  },
  {
   "cell_type": "code",
   "execution_count": 32,
   "metadata": {},
   "outputs": [
    {
     "data": {
      "text/plain": [
       "0"
      ]
     },
     "execution_count": 32,
     "metadata": {},
     "output_type": "execute_result"
    }
   ],
   "source": [
    "temperatures.count('Moon')"
   ]
  },
  {
   "cell_type": "code",
   "execution_count": 42,
   "metadata": {},
   "outputs": [
    {
     "name": "stdout",
     "output_type": "stream",
     "text": [
      "the moon and the earth. THE MOON AND THE EARTH\n"
     ]
    }
   ],
   "source": [
    "# Para convertir palabra escritas de manera diferente (Mayusculas o minusculas), se puede usar el metodo .lower() para convertirla es minuculas\n",
    "RRRR = \"The Moon And The Earth.\".lower() + ' the moon and the earth'.upper()\n",
    "print(RRRR)"
   ]
  },
  {
   "cell_type": "markdown",
   "metadata": {},
   "source": [
    "# Comprobar el contenido\n",
    "Extraer informacion que es irregular en su presentacion,"
   ]
  },
  {
   "cell_type": "code",
   "execution_count": 46,
   "metadata": {},
   "outputs": [
    {
     "name": "stdout",
     "output_type": "stream",
     "text": [
      "Mars Average Temperature: -60 C\n"
     ]
    },
    {
     "data": {
      "text/plain": [
       "' -60 C'"
      ]
     },
     "execution_count": 46,
     "metadata": {},
     "output_type": "execute_result"
    }
   ],
   "source": [
    "temperatures = 'Mars Average Temperature: -60 C'\n",
    "print(temperatures)\n",
    "parts = temperatures.split(':')\n",
    "#parts\n",
    "parts[-1]"
   ]
  },
  {
   "cell_type": "code",
   "execution_count": 53,
   "metadata": {},
   "outputs": [
    {
     "name": "stdout",
     "output_type": "stream",
     "text": [
      "30\n"
     ]
    }
   ],
   "source": [
    "mars_temperature = 'The highest temperature on Mars is about 30 C'\n",
    "\n",
    "for iteam in mars_temperature.split():\n",
    "    if iteam.isnumeric():\n",
    "        print(iteam)\n",
    "\n",
    "# .isnumeric o .isdecimal es casi lo mismo, puede revisar las cadenas separadas por .plit()."
   ]
  },
  {
   "cell_type": "code",
   "execution_count": 54,
   "metadata": {},
   "outputs": [
    {
     "data": {
      "text/plain": [
       "True"
      ]
     },
     "execution_count": 54,
     "metadata": {},
     "output_type": "execute_result"
    }
   ],
   "source": [
    "'-60'.startswith('-')"
   ]
  },
  {
   "cell_type": "code",
   "execution_count": 55,
   "metadata": {},
   "outputs": [
    {
     "name": "stdout",
     "output_type": "stream",
     "text": [
      "This temperature is in Celsius\n"
     ]
    }
   ],
   "source": [
    "# Ayuda a verificar el ultimo caracter de una cadena\n",
    "if \"30 C\".endswith(\"C\"):\n",
    "    print(\"This temperature is in Celsius\")"
   ]
  },
  {
   "cell_type": "markdown",
   "metadata": {},
   "source": [
    "# Transformar texto\n",
    "# Metodos para buscar y reemplazar apariciones de un caracter o grupo de caracteres.    -   .replace()\n"
   ]
  },
  {
   "cell_type": "code",
   "execution_count": 56,
   "metadata": {},
   "outputs": [
    {
     "data": {
      "text/plain": [
       "'Saturn has a daytime temperature of -170 degrees C, while Mars has -28 C.'"
      ]
     },
     "execution_count": 56,
     "metadata": {},
     "output_type": "execute_result"
    }
   ],
   "source": [
    "'Saturn has a daytime temperature of -170 degrees Celsius, while Mars has -28 Celsius.'.replace('Celsius', 'C')"
   ]
  },
  {
   "cell_type": "code",
   "execution_count": 59,
   "metadata": {},
   "outputs": [
    {
     "data": {
      "text/plain": [
       "True"
      ]
     },
     "execution_count": 59,
     "metadata": {},
     "output_type": "execute_result"
    }
   ],
   "source": [
    "# .lower\n",
    "text = 'Temperatures on the Moon can vary wildly.'\n",
    "#'temperatures' in text\n",
    "'temperature' in text.lower()"
   ]
  },
  {
   "cell_type": "code",
   "execution_count": 63,
   "metadata": {},
   "outputs": [
    {
     "data": {
      "text/plain": [
       "'The Moon is drifting away from the Earth.\\nOn average, the Moon is moving about 4cm every years'"
      ]
     },
     "execution_count": 63,
     "metadata": {},
     "output_type": "execute_result"
    }
   ],
   "source": [
    "moon_facts = ['The Moon is drifting away from the Earth.', 'On average, the Moon is moving about 4cm every years']\n",
    "'\\n'.join(moon_facts)"
   ]
  },
  {
   "cell_type": "markdown",
   "metadata": {},
   "source": [
    "# Formato de cadenas en Python\n",
    "* Formato con signo de porcentaje %"
   ]
  },
  {
   "cell_type": "code",
   "execution_count": 64,
   "metadata": {},
   "outputs": [
    {
     "name": "stdout",
     "output_type": "stream",
     "text": [
      "On the Moon, you would weight about 1/6 of your weight on the Earth\n"
     ]
    }
   ],
   "source": [
    "mass_percentage = '1/6'\n",
    "print('On the Moon, you would weight about %s of your weight on the Earth' % mass_percentage)"
   ]
  },
  {
   "cell_type": "code",
   "execution_count": 65,
   "metadata": {},
   "outputs": [
    {
     "name": "stdout",
     "output_type": "stream",
     "text": [
      "Both sides of the Moon get the same amount of sunlight,\n",
      "    but only one side is seen from Earth because\n",
      "    the Moon rotate around its own axis when it Earth.\n"
     ]
    }
   ],
   "source": [
    "print(\"\"\"Both sides of the %s get the same amount of sunlight,\n",
    "    but only one side is seen from %s because\n",
    "    the %s rotate around its own axis when it %s.\"\"\" % ('Moon', 'Earth', 'Moon', 'Earth'))"
   ]
  },
  {
   "cell_type": "code",
   "execution_count": 67,
   "metadata": {},
   "outputs": [
    {
     "name": "stdout",
     "output_type": "stream",
     "text": [
      "On the Moon, you would weight about 1/6 of your on Earth\n"
     ]
    }
   ],
   "source": [
    "# El metodo format() utiliza llaves ({}) como marcadores de posicion dentro de una cadena y utiliza la asignacion de variables para reemplazar el texto.\n",
    "mass_percentage = '1/6'\n",
    "print('On the Moon, you would weight about {} of your on Earth'.format(mass_percentage))"
   ]
  },
  {
   "cell_type": "code",
   "execution_count": 70,
   "metadata": {},
   "outputs": [
    {
     "name": "stdout",
     "output_type": "stream",
     "text": [
      " You are lighter on the Moon, because on the Moon\n",
      "you would weight about 1/6 of your wight on Earth\n"
     ]
    }
   ],
   "source": [
    "print(\"\"\" You are lighter on the {moon}, because on the {moon}\n",
    "... you would weight about {mass} of your wight on Earth\"\"\".format(moon=\"Moon\", mass=mass_percentage))"
   ]
  },
  {
   "cell_type": "code",
   "execution_count": 71,
   "metadata": {},
   "outputs": [
    {
     "name": "stdout",
     "output_type": "stream",
     "text": [
      "On the Moon, you would weigh about 1/6 of your weight on Earth\n"
     ]
    }
   ],
   "source": [
    "# Acerca de la cadenas con f\n",
    "print(f'On the Moon, you would weigh about {mass_percentage} of your weight on Earth')"
   ]
  },
  {
   "cell_type": "code",
   "execution_count": 72,
   "metadata": {},
   "outputs": [
    {
     "data": {
      "text/plain": [
       "'Interesting Facts About The Moon'"
      ]
     },
     "execution_count": 72,
     "metadata": {},
     "output_type": "execute_result"
    }
   ],
   "source": [
    "subject = 'interesting facts about the moon'\n",
    "f'{subject.title()}'"
   ]
  }
 ],
 "metadata": {
  "interpreter": {
   "hash": "92617b2c43b985d9ebd2f22766015ad55ace913a8b904a16047d60f0eddaebfe"
  },
  "kernelspec": {
   "display_name": "Python 3.10.2 64-bit",
   "language": "python",
   "name": "python3"
  },
  "language_info": {
   "codemirror_mode": {
    "name": "ipython",
    "version": 3
   },
   "file_extension": ".py",
   "mimetype": "text/x-python",
   "name": "python",
   "nbconvert_exporter": "python",
   "pygments_lexer": "ipython3",
   "version": "3.10.2"
  },
  "orig_nbformat": 4
 },
 "nbformat": 4,
 "nbformat_minor": 2
}
